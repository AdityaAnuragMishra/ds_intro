{
 "cells": [
  {
   "cell_type": "markdown",
   "metadata": {},
   "source": [
    "# Data Science using Python : A Survival Pack\n",
    "\n",
    "## IEEE Vis 2015"
   ]
  },
  {
   "cell_type": "markdown",
   "metadata": {},
   "source": [
    "- [Introduction](00_introduction.ipynb)\n",
    "- [NumPy recap & Introduction to Pandas](01_intro_numpy_pandas.ipynb)\n",
    "- [Pandas exercises](01_exercise_pandas.ipynb)\n",
    "- [Seaborn intro](02_intro_seaborn.ipynb)\n",
    "- [Introduction to scikit-learn](03_intro_scikit_learn.ipynb)\n",
    "- [scikit-learn exercises](03_exercise_scikit_learn.ipynb)"
   ]
  },
  {
   "cell_type": "markdown",
   "metadata": {},
   "source": [
    "<a href=\"http://mybinder.org/repo/stefanv/ds_intro\"><img src=\"http://mybinder.org/badge.svg\" style=\"float: left;\"/></a>"
   ]
  },
  {
   "cell_type": "markdown",
   "metadata": {},
   "source": [
    "## Installation\n",
    "\n",
    "The full set of tools we'll be using is available in\n",
    "[Anaconda](https://www.continuum.io/downloads).\n",
    "\n",
    "**Please select the Python 3 download.**\n",
    "\n",
    "This is a big download, so if you're on conference wifi, rather\n",
    "install [MiniConda](http://conda.pydata.org/miniconda.html), and\n",
    "install additional packages as you need them with\n",
    "\n",
    "```\n",
    "conda install package_name\n",
    "```\n",
    "\n",
    "You will need the following packages:\n",
    "\n",
    "- numpy\n",
    "- pandas\n",
    "- seaborn\n",
    "- scikit-learn\n",
    "\n",
    "All of these, except for ``seaborn``, are installed by default."
   ]
  }
 ],
 "metadata": {
  "kernelspec": {
   "display_name": "Python 3",
   "language": "python",
   "name": "python3"
  },
  "language_info": {
   "codemirror_mode": {
    "name": "ipython",
    "version": 3
   },
   "file_extension": ".py",
   "mimetype": "text/x-python",
   "name": "python",
   "nbconvert_exporter": "python",
   "pygments_lexer": "ipython3",
   "version": "3.4.3"
  }
 },
 "nbformat": 4,
 "nbformat_minor": 0
}
